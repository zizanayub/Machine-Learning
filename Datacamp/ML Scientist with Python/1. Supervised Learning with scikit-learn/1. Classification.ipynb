{
 "cells": [
  {
   "cell_type": "markdown",
   "metadata": {},
   "source": [
    "### 01. Steps to classification"
   ]
  },
  {
   "cell_type": "markdown",
   "metadata": {},
   "source": [
    "1. Build a model.\n",
    "2. Model learns from the labeled data we pass to it.\n",
    "3. Pass unlabeled data to the model as input.\n",
    "4. Model predicts the labels of unseen data. \n",
    "* Labeled data = Training data."
   ]
  },
  {
   "cell_type": "markdown",
   "metadata": {},
   "source": [
    "### 02. K-Nearest Neighbors"
   ]
  },
  {
   "cell_type": "markdown",
   "metadata": {},
   "source": [
    "1. Predict the label of a data point by looking at the 'k' closest labeled data points.\n",
    "2. Majortity vote. \n",
    "3. **Question: What is L-Nearest Neighbors?**\n",
    "\n",
    "\n",
    "        Answer: K-nearest neighbors (K-NN) is a machine learning technique that predicts the class or value of a data point based on the majority class of its nearest neighbors in a training dataset."
   ]
  }
 ],
 "metadata": {
  "kernelspec": {
   "display_name": "base",
   "language": "python",
   "name": "python3"
  },
  "language_info": {
   "name": "python",
   "version": "3.10.9"
  },
  "orig_nbformat": 4
 },
 "nbformat": 4,
 "nbformat_minor": 2
}
